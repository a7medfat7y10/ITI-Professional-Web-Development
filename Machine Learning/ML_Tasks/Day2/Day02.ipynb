{
 "cells": [
  {
   "cell_type": "code",
   "execution_count": 1,
   "id": "1d9320a1",
   "metadata": {},
   "outputs": [
    {
     "name": "stdout",
     "output_type": "stream",
     "text": [
      "Enter a sequence of comma-separated numbers: 2,5,6,1\n",
      "List: ['2', '5', '6', '1']\n",
      "Tuple: ('2', '5', '6', '1')\n"
     ]
    }
   ],
   "source": [
    "sequence = input(\"Enter a sequence of comma-separated numbers: \")\n",
    "\n",
    "numbers = sequence.split(\",\")\n",
    "\n",
    "numbers = [num.strip() for num in numbers]\n",
    "\n",
    "number_list = list(numbers)\n",
    "\n",
    "number_tuple = tuple(numbers)\n",
    "\n",
    "print(\"List:\", number_list)\n",
    "print(\"Tuple:\", number_tuple)"
   ]
  },
  {
   "cell_type": "code",
   "execution_count": 2,
   "id": "80df5092",
   "metadata": {},
   "outputs": [
    {
     "name": "stdout",
     "output_type": "stream",
     "text": [
      "First color: Red\n",
      "Last color: Black\n"
     ]
    }
   ],
   "source": [
    "color_list = [\"Red\", \"Green\", \"White\", \"Black\"]\n",
    "\n",
    "print(\"First color:\", color_list[0])\n",
    "\n",
    "print(\"Last color:\", color_list[-1])"
   ]
  },
  {
   "cell_type": "code",
   "execution_count": 3,
   "id": "a81c12e7",
   "metadata": {},
   "outputs": [
    {
     "name": "stdout",
     "output_type": "stream",
     "text": [
      "True\n"
     ]
    }
   ],
   "source": [
    "group = [1, 5, 8, 3]\n",
    "\n",
    "value = 3\n",
    "\n",
    "if value in group:\n",
    "    print(\"True\")\n",
    "else:\n",
    "    print(\"False\")"
   ]
  },
  {
   "cell_type": "code",
   "execution_count": 4,
   "id": "00b939a5",
   "metadata": {},
   "outputs": [
    {
     "name": "stdout",
     "output_type": "stream",
     "text": [
      "Enter a string: google.com\n",
      "Character frequency: {'g': 2, 'o': 3, 'l': 1, 'e': 1, '.': 1, 'c': 1, 'm': 1}\n"
     ]
    }
   ],
   "source": [
    "string = input(\"Enter a string: \")\n",
    "\n",
    "char_frequency = {}\n",
    "\n",
    "for char in string:\n",
    "    char_frequency[char] = char_frequency.get(char, 0) + 1\n",
    "\n",
    "print(\"Character frequency:\", char_frequency)"
   ]
  },
  {
   "cell_type": "code",
   "execution_count": 5,
   "id": "bd3bfc39",
   "metadata": {},
   "outputs": [
    {
     "name": "stdout",
     "output_type": "stream",
     "text": [
      "Enter a string: The lyrics is not that poor!\n",
      "Resulting string: The lyrics is good!\n"
     ]
    }
   ],
   "source": [
    "string = input(\"Enter a string: \")\n",
    "\n",
    "index_not = string.find('not')\n",
    "index_poor = string.find('poor')\n",
    "\n",
    "if index_not != -1 and index_poor != -1 and index_poor > index_not:\n",
    "    result = string[:index_not] + 'good' + string[index_poor+4:]\n",
    "else:\n",
    "    result = string\n",
    "\n",
    "print(\"Resulting string:\", result)"
   ]
  },
  {
   "cell_type": "code",
   "execution_count": 6,
   "id": "d149dfe9",
   "metadata": {},
   "outputs": [
    {
     "name": "stdout",
     "output_type": "stream",
     "text": [
      "Enter a string: Hello\n",
      "List: ['H', 'e', 'l', 'l', 'o']\n"
     ]
    }
   ],
   "source": [
    "string = input(\"Enter a string: \")\n",
    "\n",
    "string_list = list(string)\n",
    "\n",
    "print(\"List:\", string_list)"
   ]
  },
  {
   "cell_type": "code",
   "execution_count": 7,
   "id": "e9b24b47",
   "metadata": {},
   "outputs": [
    {
     "name": "stdout",
     "output_type": "stream",
     "text": [
      "Enter a list of numbers (space-separated): 2 3 54 5 \n",
      "Sum: 64\n"
     ]
    }
   ],
   "source": [
    "num_list = input(\"Enter a list of numbers (space-separated): \").split()\n",
    "\n",
    "num_list = [int(num) for num in num_list]\n",
    "\n",
    "list_sum = sum(num_list)\n",
    "\n",
    "print(\"Sum:\", list_sum)"
   ]
  },
  {
   "cell_type": "code",
   "execution_count": 8,
   "id": "16fc1c59",
   "metadata": {},
   "outputs": [
    {
     "name": "stdout",
     "output_type": "stream",
     "text": [
      "Enter a list of numbers (space-separated): 2 32 435 5 21\n",
      "Largest number: 435\n",
      "Smallest number: 2\n"
     ]
    }
   ],
   "source": [
    "num_list = input(\"Enter a list of numbers (space-separated): \").split()\n",
    "\n",
    "num_list = [int(num) for num in num_list]\n",
    "\n",
    "largest = max(num_list)\n",
    "smallest = min(num_list)\n",
    "\n",
    "print(\"Largest number:\", largest)\n",
    "print(\"Smallest number:\", smallest)"
   ]
  },
  {
   "cell_type": "code",
   "execution_count": 9,
   "id": "162bf8ff",
   "metadata": {},
   "outputs": [
    {
     "name": "stdout",
     "output_type": "stream",
     "text": [
      "Enter a list of tuples: [(2, 5), (1, 2), (4, 4), (2, 3), (2, 1)]\n",
      "Sorted list: [(2, 1), (1, 2), (2, 3), (4, 4), (2, 5)]\n"
     ]
    }
   ],
   "source": [
    "tuple_list = eval(input(\"Enter a list of tuples: \"))\n",
    "\n",
    "sorted_list = sorted(tuple_list, key=lambda x: x[-1])\n",
    "\n",
    "print(\"Sorted list:\", sorted_list)"
   ]
  },
  {
   "cell_type": "code",
   "execution_count": 10,
   "id": "478633db",
   "metadata": {},
   "outputs": [
    {
     "name": "stdout",
     "output_type": "stream",
     "text": [
      "Enter a list of elements (space-separated): 1 2 1 3 4 23\n",
      "List without duplicates: ['3', '1', '23', '4', '2']\n"
     ]
    }
   ],
   "source": [
    "original_list = input(\"Enter a list of elements (space-separated): \").split()\n",
    "\n",
    "unique_set = set(original_list)\n",
    "\n",
    "unique_list = list(unique_set)\n",
    "\n",
    "print(\"List without duplicates:\", unique_list)"
   ]
  },
  {
   "cell_type": "code",
   "execution_count": 12,
   "id": "e47efab9",
   "metadata": {
    "scrolled": true
   },
   "outputs": [
    {
     "name": "stdout",
     "output_type": "stream",
     "text": [
      "Enter a list of elements (space-separated): 1 2 22 3 23 13\n",
      "Shuffled list: ['13', '22', '2', '23', '1', '3']\n"
     ]
    }
   ],
   "source": [
    "import random\n",
    "\n",
    "original_list = input(\"Enter a list of elements (space-separated): \").split()\n",
    "\n",
    "shuffled_list = random.sample(original_list, len(original_list))\n",
    "\n",
    "print(\"Shuffled list:\", shuffled_list)"
   ]
  }
 ],
 "metadata": {
  "kernelspec": {
   "display_name": "Python 3 (ipykernel)",
   "language": "python",
   "name": "python3"
  },
  "language_info": {
   "codemirror_mode": {
    "name": "ipython",
    "version": 3
   },
   "file_extension": ".py",
   "mimetype": "text/x-python",
   "name": "python",
   "nbconvert_exporter": "python",
   "pygments_lexer": "ipython3",
   "version": "3.10.9"
  }
 },
 "nbformat": 4,
 "nbformat_minor": 5
}
