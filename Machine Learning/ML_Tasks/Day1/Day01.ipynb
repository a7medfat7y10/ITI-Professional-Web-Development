{
 "cells": [
  {
   "cell_type": "code",
   "execution_count": 5,
   "id": "8da0baeb",
   "metadata": {},
   "outputs": [
    {
     "name": "stdout",
     "output_type": "stream",
     "text": [
      "Enter the radius of the circle: 6\n",
      "Area = 113.09733552923255\n"
     ]
    }
   ],
   "source": [
    "import math\n",
    "radius = float(input(\"Enter the radius of the circle: \"))\n",
    "area = math.pi * radius ** 2\n",
    "print(\"Area =\", area)"
   ]
  },
  {
   "cell_type": "code",
   "execution_count": 7,
   "id": "130592da",
   "metadata": {},
   "outputs": [
    {
     "name": "stdout",
     "output_type": "stream",
     "text": [
      "Enter your first name: Hesham\n",
      "Enter your last name: Essam\n",
      "Essam Hesham\n"
     ]
    }
   ],
   "source": [
    "first_name = input(\"Enter your first name: \")\n",
    "\n",
    "last_name = input(\"Enter your last name: \")\n",
    "\n",
    "print(last_name, first_name)"
   ]
  },
  {
   "cell_type": "code",
   "execution_count": 9,
   "id": "d752e97e",
   "metadata": {},
   "outputs": [
    {
     "name": "stdout",
     "output_type": "stream",
     "text": [
      "Enter the paragraph: adsfafff asssd\n",
      "Enter the word to search: far\n",
      "The word is not present in the paragraph.\n"
     ]
    }
   ],
   "source": [
    "paragraph = input(\"Enter the paragraph: \")\n",
    "\n",
    "word = input(\"Enter the word to search: \")\n",
    "\n",
    "if word in paragraph:\n",
    "    print(\"The word is present in the paragraph.\")\n",
    "else:\n",
    "    print(\"The word is not present in the paragraph.\")"
   ]
  },
  {
   "cell_type": "code",
   "execution_count": 10,
   "id": "bb3bc803",
   "metadata": {},
   "outputs": [
    {
     "name": "stdout",
     "output_type": "stream",
     "text": [
      "Enter the string: ahmed\n",
      "Enter the letter to search: e\n",
      "The letter exists in the string.\n"
     ]
    }
   ],
   "source": [
    "string = input(\"Enter the string: \")\n",
    "\n",
    "letter = input(\"Enter the letter to search: \")\n",
    "\n",
    "string = string.lower()\n",
    "letter = letter.lower()\n",
    "\n",
    "if letter in string:\n",
    "    print(\"The letter exists in the string.\")\n",
    "else:\n",
    "    print(\"The letter does not exist in the string.\")"
   ]
  },
  {
   "cell_type": "code",
   "execution_count": 11,
   "id": "bf52d9ac",
   "metadata": {},
   "outputs": [
    {
     "name": "stdout",
     "output_type": "stream",
     "text": [
      "Enter a sentence: ahmed essam\n",
      "Words in the sentence:\n",
      "ahmed\n",
      "essam\n"
     ]
    }
   ],
   "source": [
    "sentence = input(\"Enter a sentence: \")\n",
    "\n",
    "words = sentence.split()\n",
    "\n",
    "print(\"Words in the sentence:\")\n",
    "for word in words:\n",
    "    print(word)"
   ]
  },
  {
   "cell_type": "code",
   "execution_count": 12,
   "id": "fc69f61f",
   "metadata": {},
   "outputs": [
    {
     "name": "stdout",
     "output_type": "stream",
     "text": [
      "Enter a string value: Hesham\n",
      "Enter an integer value: 122\n",
      "Enter a float value: 1.22\n",
      "Values: Hesham 122 1.22\n",
      "Type of string value: <class 'str'>\n",
      "Type of integer value: <class 'int'>\n",
      "Type of float value: <class 'float'>\n"
     ]
    }
   ],
   "source": [
    "string_value = input(\"Enter a string value: \")\n",
    "\n",
    "integer_value = int(input(\"Enter an integer value: \"))\n",
    "\n",
    "float_value = float(input(\"Enter a float value: \"))\n",
    "\n",
    "print(\"Values:\", string_value, integer_value, float_value)\n",
    "\n",
    "print(\"Type of string value:\", type(string_value))\n",
    "print(\"Type of integer value:\", type(integer_value))\n",
    "print(\"Type of float value:\", type(float_value))"
   ]
  },
  {
   "cell_type": "code",
   "execution_count": 13,
   "id": "f6843e02",
   "metadata": {},
   "outputs": [
    {
     "name": "stdout",
     "output_type": "stream",
     "text": [
      "Enter a string: hesham essam\n",
      "Length of the string without spaces: 11\n"
     ]
    }
   ],
   "source": [
    "string = input(\"Enter a string: \")\n",
    "\n",
    "string_without_spaces = string.replace(\" \", \"\")\n",
    "\n",
    "length_without_spaces = len(string_without_spaces)\n",
    "\n",
    "print(\"Length of the string without spaces:\", length_without_spaces)"
   ]
  },
  {
   "cell_type": "code",
   "execution_count": 14,
   "id": "6ba18fff",
   "metadata": {},
   "outputs": [
    {
     "name": "stdout",
     "output_type": "stream",
     "text": [
      "Enter a paragraph: hesham essam abdulgayed\n",
      "Number of spaces: 2\n"
     ]
    }
   ],
   "source": [
    "paragraph = input(\"Enter a paragraph: \")\n",
    "\n",
    "num_spaces = paragraph.count(\" \")\n",
    "\n",
    "print(\"Number of spaces:\", num_spaces)"
   ]
  },
  {
   "cell_type": "code",
   "execution_count": null,
   "id": "d8d616ae",
   "metadata": {},
   "outputs": [],
   "source": [
    "string = input(\"Enter a string: \")\n",
    "\n",
    "middle_index = len(string) // 2\n",
    "\n",
    "new_string = string[:middle_index] + 'ING' + string[middle_index:]\n",
    "\n",
    "print(\"Updated string:\", new_string)"
   ]
  },
  {
   "cell_type": "code",
   "execution_count": null,
   "id": "4c000e8b",
   "metadata": {},
   "outputs": [],
   "source": [
    "num1 = float(input(\"Enter the first number: \"))\n",
    "num2 = float(input(\"Enter the second number: \"))\n",
    "num3 = float(input(\"Enter the third number: \"))\n",
    "\n",
    "result = num1 > num2 and num2 > num3\n",
    "\n",
    "print(\"Comparison result:\", result)"
   ]
  },
  {
   "cell_type": "code",
   "execution_count": null,
   "id": "5fbd285b",
   "metadata": {},
   "outputs": [],
   "source": []
  }
 ],
 "metadata": {
  "kernelspec": {
   "display_name": "Python 3 (ipykernel)",
   "language": "python",
   "name": "python3"
  },
  "language_info": {
   "codemirror_mode": {
    "name": "ipython",
    "version": 3
   },
   "file_extension": ".py",
   "mimetype": "text/x-python",
   "name": "python",
   "nbconvert_exporter": "python",
   "pygments_lexer": "ipython3",
   "version": "3.10.9"
  }
 },
 "nbformat": 4,
 "nbformat_minor": 5
}
